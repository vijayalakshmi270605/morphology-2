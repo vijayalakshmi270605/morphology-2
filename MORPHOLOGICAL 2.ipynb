{
 "cells": [
  {
   "cell_type": "markdown",
   "id": "d07244a5",
   "metadata": {},
   "source": [
    "# MORPHOLOGICAL OPENING ERROSION FOLLOWED BY DILATION"
   ]
  },
  {
   "cell_type": "code",
   "execution_count": 1,
   "id": "585f7ef0",
   "metadata": {},
   "outputs": [],
   "source": [
    "import cv2 as cv\n",
    "import matplotlib.pyplot as plt\n",
    "import numpy as np"
   ]
  },
  {
   "cell_type": "code",
   "execution_count": 2,
   "id": "bf10806a",
   "metadata": {},
   "outputs": [],
   "source": [
    "img=cv.imread(\"j1.jpg\")\n"
   ]
  },
  {
   "cell_type": "code",
   "execution_count": 3,
   "id": "7f5c7f30",
   "metadata": {},
   "outputs": [],
   "source": [
    "kernel=np.ones((3,3),np.uint8)"
   ]
  },
  {
   "cell_type": "code",
   "execution_count": 4,
   "id": "7c44ac51",
   "metadata": {},
   "outputs": [],
   "source": [
    "open=cv.morphologyEx(img,cv.MORPH_OPEN,kernel)"
   ]
  },
  {
   "cell_type": "markdown",
   "id": "1ba22784",
   "metadata": {},
   "source": [
    "# morphological opening-dilation followed by erosion"
   ]
  },
  {
   "cell_type": "code",
   "execution_count": 5,
   "id": "d5a8bffd",
   "metadata": {},
   "outputs": [],
   "source": [
    "open=cv.morphologyEx(img,cv.MORPH_OPEN,kernel)"
   ]
  },
  {
   "cell_type": "markdown",
   "id": "284bac1b",
   "metadata": {},
   "source": [
    "# "
   ]
  },
  {
   "cell_type": "markdown",
   "id": "3f293dd0",
   "metadata": {},
   "source": [
    "# Display-morphological opening"
   ]
  },
  {
   "cell_type": "code",
   "execution_count": 6,
   "id": "307b5080",
   "metadata": {},
   "outputs": [],
   "source": [
    "cv.imshow('ORIGINAL',img)\n",
    "cv.imshow('MORPH_OPEN',open)\n",
    "cv.waitKey(0)\n",
    "cv.destroyAllWindows()"
   ]
  },
  {
   "cell_type": "markdown",
   "id": "23851884",
   "metadata": {},
   "source": [
    "# Morphological closing-Dilation followed by erosion"
   ]
  },
  {
   "cell_type": "code",
   "execution_count": 7,
   "id": "e8e677a4",
   "metadata": {},
   "outputs": [],
   "source": [
    "close=cv.morphologyEx(img,cv.MORPH_CLOSE,kernel)"
   ]
  },
  {
   "cell_type": "markdown",
   "id": "61a9fd20",
   "metadata": {},
   "source": [
    "# Display-morphological closing"
   ]
  },
  {
   "cell_type": "code",
   "execution_count": 8,
   "id": "74382b12",
   "metadata": {},
   "outputs": [],
   "source": [
    "cv.imshow('ORIGINAL',img)\n",
    "cv.imshow('MORPH_CLOSE',close)\n",
    "cv.waitKey(0)\n",
    "cv.destroyAllWindows()"
   ]
  },
  {
   "cell_type": "markdown",
   "id": "edc45e4c",
   "metadata": {},
   "source": [
    "# Morphological Gradient erosion followed by dilation"
   ]
  },
  {
   "cell_type": "code",
   "execution_count": 9,
   "id": "cecc1ad1",
   "metadata": {},
   "outputs": [],
   "source": [
    "gradient=cv.morphologyEx(img,cv.MORPH_GRADIENT,kernel)"
   ]
  },
  {
   "cell_type": "code",
   "execution_count": 10,
   "id": "03895bd2",
   "metadata": {},
   "outputs": [],
   "source": [
    "cv.imshow('ORIGINAL',img)\n",
    "cv.imshow('morphological gradient',gradient)\n",
    "cv.waitKey(0)\n",
    "cv.destroyAllWindows()"
   ]
  },
  {
   "cell_type": "markdown",
   "id": "38203a4e",
   "metadata": {},
   "source": [
    "# Top Hat-opening and diff. of original and opening"
   ]
  },
  {
   "cell_type": "code",
   "execution_count": 11,
   "id": "9339fde4",
   "metadata": {},
   "outputs": [],
   "source": [
    "tophat=cv.morphologyEx(img,cv.MORPH_TOPHAT,kernel)"
   ]
  },
  {
   "cell_type": "markdown",
   "id": "2705eeed",
   "metadata": {},
   "source": [
    "# DISPLAY-TOPHAT"
   ]
  },
  {
   "cell_type": "code",
   "execution_count": 12,
   "id": "260fb1ee",
   "metadata": {},
   "outputs": [],
   "source": [
    "cv.imshow('ORIGINAL',img)\n",
    "cv.imshow('tophat',tophat)\n",
    "cv.waitKey(0)\n",
    "cv.destroyAllWindows()"
   ]
  },
  {
   "cell_type": "markdown",
   "id": "2666023a",
   "metadata": {},
   "source": [
    "# BLACK HAT-OPPOSITE OF TOP HAT"
   ]
  },
  {
   "cell_type": "code",
   "execution_count": 13,
   "id": "ecce3c92",
   "metadata": {},
   "outputs": [],
   "source": [
    "blackhat=cv.morphologyEx(img,cv.MORPH_BLACKHAT,kernel)"
   ]
  },
  {
   "cell_type": "markdown",
   "id": "e492089e",
   "metadata": {},
   "source": [
    "# DISPLAY-BLACKHAT"
   ]
  },
  {
   "cell_type": "code",
   "execution_count": 14,
   "id": "a2ca4930",
   "metadata": {},
   "outputs": [],
   "source": [
    "cv.imshow('ORIGINAL',img)\n",
    "cv.imshow('blackhat',blackhat)\n",
    "cv.waitKey(0)\n",
    "cv.destroyAllWindows()"
   ]
  },
  {
   "cell_type": "code",
   "execution_count": null,
   "id": "10558de1",
   "metadata": {},
   "outputs": [],
   "source": []
  }
 ],
 "metadata": {
  "kernelspec": {
   "display_name": "Python 3 (ipykernel)",
   "language": "python",
   "name": "python3"
  },
  "language_info": {
   "codemirror_mode": {
    "name": "ipython",
    "version": 3
   },
   "file_extension": ".py",
   "mimetype": "text/x-python",
   "name": "python",
   "nbconvert_exporter": "python",
   "pygments_lexer": "ipython3",
   "version": "3.11.5"
  }
 },
 "nbformat": 4,
 "nbformat_minor": 5
}
